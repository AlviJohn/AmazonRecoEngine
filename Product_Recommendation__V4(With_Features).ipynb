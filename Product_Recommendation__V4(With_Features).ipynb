{
  "nbformat": 4,
  "nbformat_minor": 0,
  "metadata": {
    "colab": {
      "provenance": [],
      "authorship_tag": "ABX9TyPHEjTqEdRXrLLwHsD4DxR5",
      "include_colab_link": true
    },
    "kernelspec": {
      "name": "python3",
      "display_name": "Python 3"
    },
    "language_info": {
      "name": "python"
    },
    "widgets": {
      "application/vnd.jupyter.widget-state+json": {
        "da3e6fb271034430851a9d0b25f726a5": {
          "model_module": "@jupyter-widgets/controls",
          "model_name": "HBoxModel",
          "model_module_version": "1.5.0",
          "state": {
            "_dom_classes": [],
            "_model_module": "@jupyter-widgets/controls",
            "_model_module_version": "1.5.0",
            "_model_name": "HBoxModel",
            "_view_count": null,
            "_view_module": "@jupyter-widgets/controls",
            "_view_module_version": "1.5.0",
            "_view_name": "HBoxView",
            "box_style": "",
            "children": [
              "IPY_MODEL_c5be6290058140ab96facdd48849469d",
              "IPY_MODEL_cc590aed253d4f388dea1846e36e262e",
              "IPY_MODEL_e972a97ceed1417fb1837f1ed8b54540"
            ],
            "layout": "IPY_MODEL_440aaeb171514566b04fb6cce4fd70bf"
          }
        },
        "c5be6290058140ab96facdd48849469d": {
          "model_module": "@jupyter-widgets/controls",
          "model_name": "HTMLModel",
          "model_module_version": "1.5.0",
          "state": {
            "_dom_classes": [],
            "_model_module": "@jupyter-widgets/controls",
            "_model_module_version": "1.5.0",
            "_model_name": "HTMLModel",
            "_view_count": null,
            "_view_module": "@jupyter-widgets/controls",
            "_view_module_version": "1.5.0",
            "_view_name": "HTMLView",
            "description": "",
            "description_tooltip": null,
            "layout": "IPY_MODEL_ac19ce802b954ec280cd6edc5a7cc34f",
            "placeholder": "​",
            "style": "IPY_MODEL_12e3e1dadc994db68982a4d7cc3bafba",
            "value": "100%"
          }
        },
        "cc590aed253d4f388dea1846e36e262e": {
          "model_module": "@jupyter-widgets/controls",
          "model_name": "FloatProgressModel",
          "model_module_version": "1.5.0",
          "state": {
            "_dom_classes": [],
            "_model_module": "@jupyter-widgets/controls",
            "_model_module_version": "1.5.0",
            "_model_name": "FloatProgressModel",
            "_view_count": null,
            "_view_module": "@jupyter-widgets/controls",
            "_view_module_version": "1.5.0",
            "_view_name": "ProgressView",
            "bar_style": "success",
            "description": "",
            "description_tooltip": null,
            "layout": "IPY_MODEL_aa54675f7f6a40a0921e86bab255a482",
            "max": 406,
            "min": 0,
            "orientation": "horizontal",
            "style": "IPY_MODEL_310d40e9fdb648b2b10f8825973ca613",
            "value": 406
          }
        },
        "e972a97ceed1417fb1837f1ed8b54540": {
          "model_module": "@jupyter-widgets/controls",
          "model_name": "HTMLModel",
          "model_module_version": "1.5.0",
          "state": {
            "_dom_classes": [],
            "_model_module": "@jupyter-widgets/controls",
            "_model_module_version": "1.5.0",
            "_model_name": "HTMLModel",
            "_view_count": null,
            "_view_module": "@jupyter-widgets/controls",
            "_view_module_version": "1.5.0",
            "_view_name": "HTMLView",
            "description": "",
            "description_tooltip": null,
            "layout": "IPY_MODEL_58466e26646343caab983cdee3f37a54",
            "placeholder": "​",
            "style": "IPY_MODEL_c7832e71595d4be48321d1d911987a62",
            "value": " 406/406 [00:11&lt;00:00, 58.18it/s]"
          }
        },
        "440aaeb171514566b04fb6cce4fd70bf": {
          "model_module": "@jupyter-widgets/base",
          "model_name": "LayoutModel",
          "model_module_version": "1.2.0",
          "state": {
            "_model_module": "@jupyter-widgets/base",
            "_model_module_version": "1.2.0",
            "_model_name": "LayoutModel",
            "_view_count": null,
            "_view_module": "@jupyter-widgets/base",
            "_view_module_version": "1.2.0",
            "_view_name": "LayoutView",
            "align_content": null,
            "align_items": null,
            "align_self": null,
            "border": null,
            "bottom": null,
            "display": null,
            "flex": null,
            "flex_flow": null,
            "grid_area": null,
            "grid_auto_columns": null,
            "grid_auto_flow": null,
            "grid_auto_rows": null,
            "grid_column": null,
            "grid_gap": null,
            "grid_row": null,
            "grid_template_areas": null,
            "grid_template_columns": null,
            "grid_template_rows": null,
            "height": null,
            "justify_content": null,
            "justify_items": null,
            "left": null,
            "margin": null,
            "max_height": null,
            "max_width": null,
            "min_height": null,
            "min_width": null,
            "object_fit": null,
            "object_position": null,
            "order": null,
            "overflow": null,
            "overflow_x": null,
            "overflow_y": null,
            "padding": null,
            "right": null,
            "top": null,
            "visibility": null,
            "width": null
          }
        },
        "ac19ce802b954ec280cd6edc5a7cc34f": {
          "model_module": "@jupyter-widgets/base",
          "model_name": "LayoutModel",
          "model_module_version": "1.2.0",
          "state": {
            "_model_module": "@jupyter-widgets/base",
            "_model_module_version": "1.2.0",
            "_model_name": "LayoutModel",
            "_view_count": null,
            "_view_module": "@jupyter-widgets/base",
            "_view_module_version": "1.2.0",
            "_view_name": "LayoutView",
            "align_content": null,
            "align_items": null,
            "align_self": null,
            "border": null,
            "bottom": null,
            "display": null,
            "flex": null,
            "flex_flow": null,
            "grid_area": null,
            "grid_auto_columns": null,
            "grid_auto_flow": null,
            "grid_auto_rows": null,
            "grid_column": null,
            "grid_gap": null,
            "grid_row": null,
            "grid_template_areas": null,
            "grid_template_columns": null,
            "grid_template_rows": null,
            "height": null,
            "justify_content": null,
            "justify_items": null,
            "left": null,
            "margin": null,
            "max_height": null,
            "max_width": null,
            "min_height": null,
            "min_width": null,
            "object_fit": null,
            "object_position": null,
            "order": null,
            "overflow": null,
            "overflow_x": null,
            "overflow_y": null,
            "padding": null,
            "right": null,
            "top": null,
            "visibility": null,
            "width": null
          }
        },
        "12e3e1dadc994db68982a4d7cc3bafba": {
          "model_module": "@jupyter-widgets/controls",
          "model_name": "DescriptionStyleModel",
          "model_module_version": "1.5.0",
          "state": {
            "_model_module": "@jupyter-widgets/controls",
            "_model_module_version": "1.5.0",
            "_model_name": "DescriptionStyleModel",
            "_view_count": null,
            "_view_module": "@jupyter-widgets/base",
            "_view_module_version": "1.2.0",
            "_view_name": "StyleView",
            "description_width": ""
          }
        },
        "aa54675f7f6a40a0921e86bab255a482": {
          "model_module": "@jupyter-widgets/base",
          "model_name": "LayoutModel",
          "model_module_version": "1.2.0",
          "state": {
            "_model_module": "@jupyter-widgets/base",
            "_model_module_version": "1.2.0",
            "_model_name": "LayoutModel",
            "_view_count": null,
            "_view_module": "@jupyter-widgets/base",
            "_view_module_version": "1.2.0",
            "_view_name": "LayoutView",
            "align_content": null,
            "align_items": null,
            "align_self": null,
            "border": null,
            "bottom": null,
            "display": null,
            "flex": null,
            "flex_flow": null,
            "grid_area": null,
            "grid_auto_columns": null,
            "grid_auto_flow": null,
            "grid_auto_rows": null,
            "grid_column": null,
            "grid_gap": null,
            "grid_row": null,
            "grid_template_areas": null,
            "grid_template_columns": null,
            "grid_template_rows": null,
            "height": null,
            "justify_content": null,
            "justify_items": null,
            "left": null,
            "margin": null,
            "max_height": null,
            "max_width": null,
            "min_height": null,
            "min_width": null,
            "object_fit": null,
            "object_position": null,
            "order": null,
            "overflow": null,
            "overflow_x": null,
            "overflow_y": null,
            "padding": null,
            "right": null,
            "top": null,
            "visibility": null,
            "width": null
          }
        },
        "310d40e9fdb648b2b10f8825973ca613": {
          "model_module": "@jupyter-widgets/controls",
          "model_name": "ProgressStyleModel",
          "model_module_version": "1.5.0",
          "state": {
            "_model_module": "@jupyter-widgets/controls",
            "_model_module_version": "1.5.0",
            "_model_name": "ProgressStyleModel",
            "_view_count": null,
            "_view_module": "@jupyter-widgets/base",
            "_view_module_version": "1.2.0",
            "_view_name": "StyleView",
            "bar_color": null,
            "description_width": ""
          }
        },
        "58466e26646343caab983cdee3f37a54": {
          "model_module": "@jupyter-widgets/base",
          "model_name": "LayoutModel",
          "model_module_version": "1.2.0",
          "state": {
            "_model_module": "@jupyter-widgets/base",
            "_model_module_version": "1.2.0",
            "_model_name": "LayoutModel",
            "_view_count": null,
            "_view_module": "@jupyter-widgets/base",
            "_view_module_version": "1.2.0",
            "_view_name": "LayoutView",
            "align_content": null,
            "align_items": null,
            "align_self": null,
            "border": null,
            "bottom": null,
            "display": null,
            "flex": null,
            "flex_flow": null,
            "grid_area": null,
            "grid_auto_columns": null,
            "grid_auto_flow": null,
            "grid_auto_rows": null,
            "grid_column": null,
            "grid_gap": null,
            "grid_row": null,
            "grid_template_areas": null,
            "grid_template_columns": null,
            "grid_template_rows": null,
            "height": null,
            "justify_content": null,
            "justify_items": null,
            "left": null,
            "margin": null,
            "max_height": null,
            "max_width": null,
            "min_height": null,
            "min_width": null,
            "object_fit": null,
            "object_position": null,
            "order": null,
            "overflow": null,
            "overflow_x": null,
            "overflow_y": null,
            "padding": null,
            "right": null,
            "top": null,
            "visibility": null,
            "width": null
          }
        },
        "c7832e71595d4be48321d1d911987a62": {
          "model_module": "@jupyter-widgets/controls",
          "model_name": "DescriptionStyleModel",
          "model_module_version": "1.5.0",
          "state": {
            "_model_module": "@jupyter-widgets/controls",
            "_model_module_version": "1.5.0",
            "_model_name": "DescriptionStyleModel",
            "_view_count": null,
            "_view_module": "@jupyter-widgets/base",
            "_view_module_version": "1.2.0",
            "_view_name": "StyleView",
            "description_width": ""
          }
        }
      }
    }
  },
  "cells": [
    {
      "cell_type": "markdown",
      "metadata": {
        "id": "view-in-github",
        "colab_type": "text"
      },
      "source": [
        "<a href=\"https://colab.research.google.com/github/AlviJohn/AmazonRecoEngine/blob/main/Product_Recommendation__V4(With_Features).ipynb\" target=\"_parent\"><img src=\"https://colab.research.google.com/assets/colab-badge.svg\" alt=\"Open In Colab\"/></a>"
      ]
    },
    {
      "cell_type": "code",
      "execution_count": 55,
      "metadata": {
        "id": "AtEq35KJgh-l"
      },
      "outputs": [],
      "source": [
        "## Importing required libraries\n",
        "import pandas as pd\n",
        "import numpy as np\n",
        "import torch\n",
        "from torch.utils.data import Dataset, DataLoader\n",
        "from sklearn.model_selection import train_test_split\n",
        "import os\n",
        "import gzip\n",
        "import json\n",
        "from google.colab import drive\n",
        "import gc\n",
        "from PIL import Image\n",
        "import requests\n",
        "from io import BytesIO\n",
        "from IPython.display import display\n",
        "import matplotlib.pyplot as plt\n",
        "# CUDA for PyTorch\n",
        "use_cuda = torch.cuda.is_available()\n",
        "device = torch.device(\"cuda:0\" if use_cuda else \"cpu\")\n",
        "from tqdm.notebook import tqdm\n",
        "from sklearn.metrics import ndcg_score, roc_auc_score, precision_score, recall_score, confusion_matrix\n",
        "## Amazon Dataset --https://nijianmo.github.io/amazon/index.html\n",
        "###Mounting Google Drive"
      ]
    },
    {
      "cell_type": "code",
      "source": [
        "##Mounting the Path\n",
        "drive.mount('/content/drive')\n",
        "path =\"/content/drive/MyDrive/LJMU Research Topic/colab_experiments/data\"\n",
        "RAWDATA_PATH = path + \"/raw\"\n",
        "EMBEDDINGSDATA_PATH = path + \"/embeddings\"\n",
        "os.chdir(RAWDATA_PATH)\n"
      ],
      "metadata": {
        "id": "Xm8XGkUygyDo",
        "colab": {
          "base_uri": "https://localhost:8080/"
        },
        "outputId": "78bb2472-a847-4338-d017-d5776bf6f8f1"
      },
      "execution_count": 56,
      "outputs": [
        {
          "output_type": "stream",
          "name": "stdout",
          "text": [
            "Drive already mounted at /content/drive; to attempt to forcibly remount, call drive.mount(\"/content/drive\", force_remount=True).\n"
          ]
        }
      ]
    },
    {
      "cell_type": "markdown",
      "source": [
        "**Dataset Definition**"
      ],
      "metadata": {
        "id": "eYOTrReumd5k"
      }
    },
    {
      "cell_type": "code",
      "source": [
        "# Define a custom dataset class for reading the data\n",
        "\n",
        "class AmazonDataset(Dataset):\n",
        "    def __init__(self, data,idx_to_item,image_embeddings,desc_embeddings):\n",
        "        self.data = data\n",
        "        self.idx_to_item = idx_to_item\n",
        "        self.image_embeddings=image_embeddings\n",
        "        self.desc_embeddings=desc_embeddings\n",
        "\n",
        "    def __len__(self):\n",
        "        return len(self.data)\n",
        "\n",
        "    def __getitem__(self, idx):\n",
        "        user = self.data.iloc[idx, 0]\n",
        "        item = self.data.iloc[idx, 1]\n",
        "        relevance_score = self.data.iloc[idx, 2]\n",
        "        \n",
        "        itemimage_embedding = self.image_embeddings.get(idx_to_item[item],torch.zeros(25088))\n",
        "        itemdesc_embedding = self.desc_embeddings.get(idx_to_item[item],torch.zeros(768))\n",
        "\n",
        "        return user, item, relevance_score,itemimage_embedding,itemdesc_embedding\n"
      ],
      "metadata": {
        "id": "UAKdGqksmp4i"
      },
      "execution_count": 57,
      "outputs": []
    },
    {
      "cell_type": "code",
      "source": [
        "# Define the model\n",
        "class RecommenderNet(torch.nn.Module):\n",
        "    def __init__(self, n_users, n_items,n_image_embedding,n_desc_embedding, n_factors=64,dropout_prob=0.2):\n",
        "        super().__init__()\n",
        "        self.user_embedding = torch.nn.Embedding(n_users, n_factors)\n",
        "        self.item_embedding = torch.nn.Embedding(n_items, n_factors)\n",
        "        \n",
        "        self.image_embedding_layer = torch.nn.Linear(n_image_embedding, n_factors)\n",
        "        self.desc_embedding_layer = torch.nn.Linear(n_desc_embedding, n_factors)\n",
        "        \n",
        "        self.fc1 = torch.nn.Linear(n_factors*4, 64)\n",
        "        self.fc2 = torch.nn.Linear(64, 32)\n",
        "        self.fc3 = torch.nn.Linear(32, 1)\n",
        "\n",
        "        self.dropout = torch.nn.Dropout(dropout_prob)\n",
        "\n",
        "    def forward(self, user, item,itemimage_embedding,itemdesc_embedding):\n",
        "       \n",
        "        user_embedding = self.user_embedding(user)\n",
        "        item_embedding = self.item_embedding(item)\n",
        "        \n",
        "        itemimage_embedding = self.image_embedding_layer(itemimage_embedding).unsqueeze(1)\n",
        "        itemdesc_embedding = self.desc_embedding_layer(itemdesc_embedding).unsqueeze(1)\n",
        "\n",
        "        user_embedding = torch.nn.functional.relu(user_embedding)\n",
        "        user_embedding =self.dropout(user_embedding)\n",
        "        item_embedding = torch.nn.functional.relu(item_embedding)\n",
        "        item_embedding =self.dropout(item_embedding)\n",
        "        itemimage_embedding = torch.nn.functional.relu(itemimage_embedding)\n",
        "        itemimage_embedding =self.dropout(itemimage_embedding)\n",
        "        itemdesc_embedding = torch.nn.functional.relu(itemdesc_embedding)\n",
        "        itemdesc_embedding =self.dropout(itemdesc_embedding)\n",
        "\n",
        "        vector = torch.cat([user_embedding, item_embedding,itemimage_embedding,itemdesc_embedding], dim=-1)\n",
        "        vector = torch.nn.functional.relu(self.fc1(vector))\n",
        "        vector = self.dropout(vector)\n",
        "        vector = torch.nn.functional.relu(self.fc2(vector))\n",
        "        vector = self.dropout(vector)\n",
        "        vector = self.fc3(vector)\n",
        "        vector = torch.sigmoid(vector).float()\n",
        "        return vector.squeeze().float()"
      ],
      "metadata": {
        "id": "bz6vkF8jm1E5"
      },
      "execution_count": 58,
      "outputs": []
    },
    {
      "cell_type": "markdown",
      "source": [
        "**Model Training**"
      ],
      "metadata": {
        "id": "DsNRdDIfq6AO"
      }
    },
    {
      "cell_type": "code",
      "source": [
        "######Loading Image embeddings\n",
        "image_embeddings=torch.load(EMBEDDINGSDATA_PATH + '/productimage_embeddings.pt')\n",
        "description_embeddings=torch.load(EMBEDDINGSDATA_PATH +'/productdescription_embeddings.pt')"
      ],
      "metadata": {
        "id": "efushZTJC2AL"
      },
      "execution_count": 59,
      "outputs": []
    },
    {
      "cell_type": "code",
      "source": [
        "####Loading the ratings dataset\n",
        "df = pd.read_csv('user_item_rating.csv')\n",
        "df = df[[\"reviewerID\",\"asin\",\"overall\",\"unixReviewTime\"]]\n",
        "\n",
        "##Assigning all positive rating as 1\n",
        "df['overall'] =1\n",
        "###Taking Unique User IDs and Product IDs\n",
        "user_unique = df['reviewerID'].unique()\n",
        "product_unique= df['asin'].unique()\n",
        "\n",
        "###Creating index for UserID and Product ID\n",
        "user_to_idx = {v:k for k,v in enumerate(user_unique)}\n",
        "item_to_idx = {v:k for k,v in enumerate(product_unique)}\n",
        "\n",
        "idx_to_user = {k:v for k,v in enumerate(user_unique)}\n",
        "idx_to_item = {k:v for k,v in enumerate(product_unique)}\n",
        "\n",
        "df= df.replace({\"reviewerID\": user_to_idx,\"asin\": item_to_idx})\n",
        "\n",
        "df.head()"
      ],
      "metadata": {
        "colab": {
          "base_uri": "https://localhost:8080/",
          "height": 310
        },
        "id": "PTPhnKnDC6u0",
        "outputId": "77afb88c-7c73-41b2-e54c-a1203b2f14c0"
      },
      "execution_count": 60,
      "outputs": [
        {
          "output_type": "stream",
          "name": "stderr",
          "text": [
            "<ipython-input-60-69e042926e97>:6: SettingWithCopyWarning: \n",
            "A value is trying to be set on a copy of a slice from a DataFrame.\n",
            "Try using .loc[row_indexer,col_indexer] = value instead\n",
            "\n",
            "See the caveats in the documentation: https://pandas.pydata.org/pandas-docs/stable/user_guide/indexing.html#returning-a-view-versus-a-copy\n",
            "  df['overall'] =1\n"
          ]
        },
        {
          "output_type": "execute_result",
          "data": {
            "text/plain": [
              "   reviewerID  asin  overall  unixReviewTime\n",
              "0           0     0        1      1441324800\n",
              "1           0     0        1      1441324800\n",
              "2           0     0        1      1441324800\n",
              "3           0     0        1      1441324800\n",
              "4           0     0        1      1441324800"
            ],
            "text/html": [
              "\n",
              "  <div id=\"df-2ee10f9c-67a3-47f7-992e-954cca389257\">\n",
              "    <div class=\"colab-df-container\">\n",
              "      <div>\n",
              "<style scoped>\n",
              "    .dataframe tbody tr th:only-of-type {\n",
              "        vertical-align: middle;\n",
              "    }\n",
              "\n",
              "    .dataframe tbody tr th {\n",
              "        vertical-align: top;\n",
              "    }\n",
              "\n",
              "    .dataframe thead th {\n",
              "        text-align: right;\n",
              "    }\n",
              "</style>\n",
              "<table border=\"1\" class=\"dataframe\">\n",
              "  <thead>\n",
              "    <tr style=\"text-align: right;\">\n",
              "      <th></th>\n",
              "      <th>reviewerID</th>\n",
              "      <th>asin</th>\n",
              "      <th>overall</th>\n",
              "      <th>unixReviewTime</th>\n",
              "    </tr>\n",
              "  </thead>\n",
              "  <tbody>\n",
              "    <tr>\n",
              "      <th>0</th>\n",
              "      <td>0</td>\n",
              "      <td>0</td>\n",
              "      <td>1</td>\n",
              "      <td>1441324800</td>\n",
              "    </tr>\n",
              "    <tr>\n",
              "      <th>1</th>\n",
              "      <td>0</td>\n",
              "      <td>0</td>\n",
              "      <td>1</td>\n",
              "      <td>1441324800</td>\n",
              "    </tr>\n",
              "    <tr>\n",
              "      <th>2</th>\n",
              "      <td>0</td>\n",
              "      <td>0</td>\n",
              "      <td>1</td>\n",
              "      <td>1441324800</td>\n",
              "    </tr>\n",
              "    <tr>\n",
              "      <th>3</th>\n",
              "      <td>0</td>\n",
              "      <td>0</td>\n",
              "      <td>1</td>\n",
              "      <td>1441324800</td>\n",
              "    </tr>\n",
              "    <tr>\n",
              "      <th>4</th>\n",
              "      <td>0</td>\n",
              "      <td>0</td>\n",
              "      <td>1</td>\n",
              "      <td>1441324800</td>\n",
              "    </tr>\n",
              "  </tbody>\n",
              "</table>\n",
              "</div>\n",
              "      <button class=\"colab-df-convert\" onclick=\"convertToInteractive('df-2ee10f9c-67a3-47f7-992e-954cca389257')\"\n",
              "              title=\"Convert this dataframe to an interactive table.\"\n",
              "              style=\"display:none;\">\n",
              "        \n",
              "  <svg xmlns=\"http://www.w3.org/2000/svg\" height=\"24px\"viewBox=\"0 0 24 24\"\n",
              "       width=\"24px\">\n",
              "    <path d=\"M0 0h24v24H0V0z\" fill=\"none\"/>\n",
              "    <path d=\"M18.56 5.44l.94 2.06.94-2.06 2.06-.94-2.06-.94-.94-2.06-.94 2.06-2.06.94zm-11 1L8.5 8.5l.94-2.06 2.06-.94-2.06-.94L8.5 2.5l-.94 2.06-2.06.94zm10 10l.94 2.06.94-2.06 2.06-.94-2.06-.94-.94-2.06-.94 2.06-2.06.94z\"/><path d=\"M17.41 7.96l-1.37-1.37c-.4-.4-.92-.59-1.43-.59-.52 0-1.04.2-1.43.59L10.3 9.45l-7.72 7.72c-.78.78-.78 2.05 0 2.83L4 21.41c.39.39.9.59 1.41.59.51 0 1.02-.2 1.41-.59l7.78-7.78 2.81-2.81c.8-.78.8-2.07 0-2.86zM5.41 20L4 18.59l7.72-7.72 1.47 1.35L5.41 20z\"/>\n",
              "  </svg>\n",
              "      </button>\n",
              "      \n",
              "  <style>\n",
              "    .colab-df-container {\n",
              "      display:flex;\n",
              "      flex-wrap:wrap;\n",
              "      gap: 12px;\n",
              "    }\n",
              "\n",
              "    .colab-df-convert {\n",
              "      background-color: #E8F0FE;\n",
              "      border: none;\n",
              "      border-radius: 50%;\n",
              "      cursor: pointer;\n",
              "      display: none;\n",
              "      fill: #1967D2;\n",
              "      height: 32px;\n",
              "      padding: 0 0 0 0;\n",
              "      width: 32px;\n",
              "    }\n",
              "\n",
              "    .colab-df-convert:hover {\n",
              "      background-color: #E2EBFA;\n",
              "      box-shadow: 0px 1px 2px rgba(60, 64, 67, 0.3), 0px 1px 3px 1px rgba(60, 64, 67, 0.15);\n",
              "      fill: #174EA6;\n",
              "    }\n",
              "\n",
              "    [theme=dark] .colab-df-convert {\n",
              "      background-color: #3B4455;\n",
              "      fill: #D2E3FC;\n",
              "    }\n",
              "\n",
              "    [theme=dark] .colab-df-convert:hover {\n",
              "      background-color: #434B5C;\n",
              "      box-shadow: 0px 1px 3px 1px rgba(0, 0, 0, 0.15);\n",
              "      filter: drop-shadow(0px 1px 2px rgba(0, 0, 0, 0.3));\n",
              "      fill: #FFFFFF;\n",
              "    }\n",
              "  </style>\n",
              "\n",
              "      <script>\n",
              "        const buttonEl =\n",
              "          document.querySelector('#df-2ee10f9c-67a3-47f7-992e-954cca389257 button.colab-df-convert');\n",
              "        buttonEl.style.display =\n",
              "          google.colab.kernel.accessAllowed ? 'block' : 'none';\n",
              "\n",
              "        async function convertToInteractive(key) {\n",
              "          const element = document.querySelector('#df-2ee10f9c-67a3-47f7-992e-954cca389257');\n",
              "          const dataTable =\n",
              "            await google.colab.kernel.invokeFunction('convertToInteractive',\n",
              "                                                     [key], {});\n",
              "          if (!dataTable) return;\n",
              "\n",
              "          const docLinkHtml = 'Like what you see? Visit the ' +\n",
              "            '<a target=\"_blank\" href=https://colab.research.google.com/notebooks/data_table.ipynb>data table notebook</a>'\n",
              "            + ' to learn more about interactive tables.';\n",
              "          element.innerHTML = '';\n",
              "          dataTable['output_type'] = 'display_data';\n",
              "          await google.colab.output.renderOutput(dataTable, element);\n",
              "          const docLink = document.createElement('div');\n",
              "          docLink.innerHTML = docLinkHtml;\n",
              "          element.appendChild(docLink);\n",
              "        }\n",
              "      </script>\n",
              "    </div>\n",
              "  </div>\n",
              "  "
            ]
          },
          "metadata": {},
          "execution_count": 60
        }
      ]
    },
    {
      "cell_type": "code",
      "source": [
        "###Assigning all the latest to test dataset\n",
        "df['rank_latest'] = df.groupby(['reviewerID'])['unixReviewTime'] \\\n",
        "                                .rank(method = 'first',ascending=False)\n",
        "\n",
        "train_data = df[df['rank_latest'] != 1]\n",
        "test_data = df[df['rank_latest'] == 1]\n",
        "\n",
        "#test_data,train_data = train_test_split(df, test_size=0.8)\n",
        "# drop columns that we no Longer need \n",
        "train_data = train_data[[\"reviewerID\",\"asin\",\"overall\"]]\n",
        "test_data = test_data[[\"reviewerID\",\"asin\",\"overall\"]]\n",
        "\n",
        "\n",
        "display(train_data.shape)\n",
        "display(test_data.shape)"
      ],
      "metadata": {
        "colab": {
          "base_uri": "https://localhost:8080/",
          "height": 52
        },
        "id": "u35rjvGCmrlB",
        "outputId": "51d241d6-700e-42df-eb74-8cad14a4353f"
      },
      "execution_count": 61,
      "outputs": [
        {
          "output_type": "display_data",
          "data": {
            "text/plain": [
              "(2770, 3)"
            ]
          },
          "metadata": {}
        },
        {
          "output_type": "display_data",
          "data": {
            "text/plain": [
              "(406, 3)"
            ]
          },
          "metadata": {}
        }
      ]
    },
    {
      "cell_type": "markdown",
      "source": [
        "Negative Sampling for train dataset"
      ],
      "metadata": {
        "id": "jd6PqhaQefKo"
      }
    },
    {
      "cell_type": "code",
      "source": [
        "# Get a list of all products\n",
        "all_Ids = train_data['asin'].unique()\n",
        "\n",
        "users, items, labels = [], [], []\n",
        "user_item_set = set(zip(train_data['reviewerID'], train_data['asin']))   \n",
        "\n",
        "######Setting 4 negative sample for every positive sample\n",
        "num_negatives = 4\n",
        "for u, i in user_item_set:\n",
        "  users.append(u)\n",
        "  items.append(i)\n",
        "  labels.append(1)\n",
        "  for _ in range(num_negatives):\n",
        "    negative_item = np.random.choice(all_Ids)\n",
        "    while (u, negative_item) in user_item_set:\n",
        "      negative_item = np.random.choice(all_Ids)\n",
        "    users.append(u)\n",
        "    items.append(i)\n",
        "    labels.append(0)\n",
        "                     \n",
        "train_data = pd.DataFrame({'reviewerID':users, 'asin':items, 'overall':labels})\n",
        "\n",
        "###Setting 20% of Train Dataset as Validation Dataset\n",
        "train_data, val_data = train_test_split(train_data, test_size=0.2)\n",
        "display(val_data.shape)\n",
        "display(train_data.shape)\n"
      ],
      "metadata": {
        "id": "GvwYDP99tt7x",
        "colab": {
          "base_uri": "https://localhost:8080/",
          "height": 52
        },
        "outputId": "bb3ed5bd-5a4b-4550-c427-9ec99af5e050"
      },
      "execution_count": 62,
      "outputs": [
        {
          "output_type": "display_data",
          "data": {
            "text/plain": [
              "(2666, 3)"
            ]
          },
          "metadata": {}
        },
        {
          "output_type": "display_data",
          "data": {
            "text/plain": [
              "(10664, 3)"
            ]
          },
          "metadata": {}
        }
      ]
    },
    {
      "cell_type": "code",
      "source": [
        "# Define the data loaders\n",
        "train_dataset = AmazonDataset(train_data,idx_to_item,image_embeddings,description_embeddings)\n",
        "val_dataset = AmazonDataset(val_data,idx_to_item,image_embeddings,description_embeddings)\n",
        "test_dataset = AmazonDataset(test_data,idx_to_item,image_embeddings,description_embeddings)\n",
        "train_loader = DataLoader(train_dataset, batch_size=128, shuffle=True)\n",
        "val_loader = DataLoader(val_dataset, batch_size=128, shuffle=False)\n",
        "test_loader = DataLoader(test_dataset, batch_size=128, shuffle=False)"
      ],
      "metadata": {
        "id": "xYaze8cA5uIa"
      },
      "execution_count": 63,
      "outputs": []
    },
    {
      "cell_type": "code",
      "source": [
        "# Initialize the model and hyperparameters\n",
        "model = RecommenderNet(n_users=(df.reviewerID.max()+1),\\\n",
        "                       n_items=(df.asin.max()+1),n_image_embedding=25088,n_desc_embedding=768,n_factors=64)\n",
        "\n",
        "\n",
        "criterion = torch.nn.BCELoss()\n",
        "optimizer = torch.optim.Adam(model.parameters(), lr=0.0001)\n"
      ],
      "metadata": {
        "id": "fmykFM95r8fs"
      },
      "execution_count": 64,
      "outputs": []
    },
    {
      "cell_type": "code",
      "source": [
        "model"
      ],
      "metadata": {
        "colab": {
          "base_uri": "https://localhost:8080/"
        },
        "id": "q8cEKd4x-0wu",
        "outputId": "957521bf-3216-423e-8b64-e0fe0535851c"
      },
      "execution_count": 65,
      "outputs": [
        {
          "output_type": "execute_result",
          "data": {
            "text/plain": [
              "RecommenderNet(\n",
              "  (user_embedding): Embedding(406, 64)\n",
              "  (item_embedding): Embedding(31, 64)\n",
              "  (image_embedding_layer): Linear(in_features=25088, out_features=64, bias=True)\n",
              "  (desc_embedding_layer): Linear(in_features=768, out_features=64, bias=True)\n",
              "  (fc1): Linear(in_features=256, out_features=64, bias=True)\n",
              "  (fc2): Linear(in_features=64, out_features=32, bias=True)\n",
              "  (fc3): Linear(in_features=32, out_features=1, bias=True)\n",
              "  (dropout): Dropout(p=0.2, inplace=False)\n",
              ")"
            ]
          },
          "metadata": {},
          "execution_count": 65
        }
      ]
    },
    {
      "cell_type": "code",
      "source": [
        "# Training the model\n",
        "train_losses = []\n",
        "val_losses = []\n",
        "\n",
        "epochs = 25\n",
        "for epoch in range(epochs):\n",
        "    train_loss = 0.0\n",
        "    for user, item, relevance_score,itemimage_embedding,itemdesc_embedding in train_loader:\n",
        "        optimizer.zero_grad()\n",
        "        user=user.view(-1, 1)\n",
        "        item = item.view(-1, 1)\n",
        "        #relevance_score = relevance_score.squeeze()\n",
        "        #relevance_score = relevance_score.view(-1, 1).float()\n",
        "        predicted_score = model(user, item,itemimage_embedding,itemdesc_embedding)\n",
        "        # print(relevance_score)\n",
        "        # print(predicted_score)\n",
        "        loss = criterion(predicted_score, relevance_score.float())\n",
        "        loss.backward()\n",
        "        optimizer.step()\n",
        "        train_loss += loss.item()\n",
        "    train_losses.append(train_loss/len(train_loader))\n",
        "\n",
        "  # Validation\n",
        "    val_loss = 0.0\n",
        "    with torch.no_grad():\n",
        "        for user, item, relevance_score,itemimage_embedding,itemdesc_embedding in val_loader:\n",
        "            user=user.view(-1, 1)\n",
        "            item = item.view(-1, 1)\n",
        "            #relevance_score = relevance_score.squeeze()\n",
        "            predicted_score = model(user, item,itemimage_embedding,itemdesc_embedding)\n",
        "            loss = criterion(predicted_score, relevance_score.float())\n",
        "            val_loss += loss.item()\n",
        "        val_losses.append(val_loss/len(val_loader))\n",
        "\n",
        "# Print the loss for each epoch\n",
        "    print(f\"Epoch {epoch+1}, Training Loss: {train_loss/len(train_loader)}, Validation Loss: {val_loss/len(val_loader)}\")\n",
        "\n",
        "# Plot loss curves\n",
        "plt.plot(train_losses, label='train')\n",
        "plt.plot(val_losses, label='val')\n",
        "plt.xlabel('Epoch')\n",
        "plt.ylabel('Loss')\n",
        "plt.legend()\n",
        "plt.show()"
      ],
      "metadata": {
        "colab": {
          "base_uri": "https://localhost:8080/",
          "height": 883
        },
        "id": "JADsGfyvhncW",
        "outputId": "bd95fce8-de83-4e3f-e11b-8befe50d0f1d"
      },
      "execution_count": 66,
      "outputs": [
        {
          "output_type": "stream",
          "name": "stdout",
          "text": [
            "Epoch 1, Training Loss: 0.5350549238778296, Validation Loss: 0.5110704217638288\n",
            "Epoch 2, Training Loss: 0.5195072314568928, Validation Loss: 0.5040516981056758\n",
            "Epoch 3, Training Loss: 0.5162620579912549, Validation Loss: 0.51051417135057\n",
            "Epoch 4, Training Loss: 0.518536525113242, Validation Loss: 0.5074813706534249\n",
            "Epoch 5, Training Loss: 0.513208939560822, Validation Loss: 0.5044768665518079\n",
            "Epoch 6, Training Loss: 0.5153649569976897, Validation Loss: 0.4958035293079558\n",
            "Epoch 7, Training Loss: 0.5124321289005733, Validation Loss: 0.5027640078748975\n",
            "Epoch 8, Training Loss: 0.5118144402901331, Validation Loss: 0.5011510565167382\n",
            "Epoch 9, Training Loss: 0.5133230533628237, Validation Loss: 0.5053813060124716\n",
            "Epoch 10, Training Loss: 0.5124425047210285, Validation Loss: 0.49984563958077205\n",
            "Epoch 11, Training Loss: 0.5125172255294663, Validation Loss: 0.49888430322919575\n",
            "Epoch 12, Training Loss: 0.5115453320599738, Validation Loss: 0.5022114401771909\n",
            "Epoch 13, Training Loss: 0.5093959946007955, Validation Loss: 0.5042936404546102\n",
            "Epoch 14, Training Loss: 0.5121358991378829, Validation Loss: 0.5046006682373229\n",
            "Epoch 15, Training Loss: 0.5118761232921055, Validation Loss: 0.5026819833687374\n",
            "Epoch 16, Training Loss: 0.5101249505366597, Validation Loss: 0.500034613268716\n",
            "Epoch 17, Training Loss: 0.5102089168060393, Validation Loss: 0.4989676816122873\n",
            "Epoch 18, Training Loss: 0.5104537538829304, Validation Loss: 0.5004993563606626\n",
            "Epoch 19, Training Loss: 0.5114761786091895, Validation Loss: 0.49964638692992075\n",
            "Epoch 20, Training Loss: 0.5087551240410123, Validation Loss: 0.4966511002608708\n",
            "Epoch 21, Training Loss: 0.5116608387657574, Validation Loss: 0.49885450516428265\n",
            "Epoch 22, Training Loss: 0.5059109592721576, Validation Loss: 0.49919881990977694\n",
            "Epoch 23, Training Loss: 0.5095116293856076, Validation Loss: 0.5017267493974595\n",
            "Epoch 24, Training Loss: 0.5095257049515134, Validation Loss: 0.5002850946925935\n",
            "Epoch 25, Training Loss: 0.5084366762921924, Validation Loss: 0.5026206118719918\n"
          ]
        },
        {
          "output_type": "display_data",
          "data": {
            "text/plain": [
              "<Figure size 640x480 with 1 Axes>"
            ],
            "image/png": "[encoded data removed]"
          },
          "metadata": {}
        }
      ]
    },
    {
      "cell_type": "code",
      "source": [],
      "metadata": {
        "id": "rTZOZhRZPlG2"
      },
      "execution_count": 66,
      "outputs": []
    },
    {
      "cell_type": "code",
      "source": [
        "###Testing the Model with HIT 10\n",
        "# User-item pairs for testing\n",
        "test_user_item_set = set(zip(test_data['reviewerID'], test_data['asin']))\n",
        "# Dict of all items that are interacted with by each user\n",
        "user_interacted_items = train_data.groupby('reviewerID')['asin'].apply(list).to_dict()\n",
        "all_Ids = train_data['asin'].unique()\n",
        "\n",
        "\n",
        "hits = []\n",
        "ndcg=[]\n",
        "auc=[]\n",
        "\n",
        "for (u,i) in tqdm(test_user_item_set):\n",
        "    interacted_items = user_interacted_items[u]\n",
        "    not_interacted_items = set(all_Ids) - set(interacted_items)\n",
        "    selected_not_interacted = list(np.random.choice(list(not_interacted_items), 99))\n",
        "    test_items = selected_not_interacted + [i]\n",
        "\n",
        "    item_image_embedding_tensors = [image_embeddings.get(idx_to_item[item_id],torch.zeros(25088)) for item_id in test_items]\n",
        "    item_desc_embedding_tensors = [description_embeddings.get(idx_to_item[item_id],torch.zeros(768)) for item_id in test_items]\n",
        "\n",
        "    item_image_embedding_tensors = torch.stack(item_image_embedding_tensors)\n",
        "    item_desc_embedding_tensors= torch.stack(item_desc_embedding_tensors)\n",
        "    \n",
        "    predicted_labels = np.squeeze(model(torch.tensor([u]*100).view(-1,1),\\\n",
        "                                        torch.tensor(test_items).view(-1,1),\\\n",
        "                                        item_image_embedding_tensors,item_desc_embedding_tensors).detach().numpy())\n",
        "    \n",
        "    \n",
        "    top10_items = [test_items[i] for i in np.argsort(predicted_labels)[::-1][0:10].tolist()]\n",
        "    \n",
        "    actual_labels = np.zeros(100)\n",
        "    actual_labels[-1] = 1\n",
        "    \n",
        "    # NDCG calculation\n",
        "    ndcg.append(ndcg_score([actual_labels], [predicted_labels]))\n",
        "\n",
        "    # AUC calculation\n",
        "    auc.append(roc_auc_score(actual_labels, predicted_labels))\n",
        "    \n",
        "\n",
        "    if i in top10_items:\n",
        "        hits.append(1)\n",
        "    else:\n",
        "        hits.append(0)\n",
        "        \n",
        "print(\"The Hit Ratio @ 10 is {:.2f}\".format(np.average(hits)))\n",
        "print(\"The AUC is {:.2f}\".format(np.average(auc)))\n",
        "print(\"The NDCG is {:.2f}\".format(np.average(ndcg)))"
      ],
      "metadata": {
        "id": "bAecxGlDBV62",
        "colab": {
          "base_uri": "https://localhost:8080/",
          "height": 101,
          "referenced_widgets": [
            "da3e6fb271034430851a9d0b25f726a5",
            "c5be6290058140ab96facdd48849469d",
            "cc590aed253d4f388dea1846e36e262e",
            "e972a97ceed1417fb1837f1ed8b54540",
            "440aaeb171514566b04fb6cce4fd70bf",
            "ac19ce802b954ec280cd6edc5a7cc34f",
            "12e3e1dadc994db68982a4d7cc3bafba",
            "aa54675f7f6a40a0921e86bab255a482",
            "310d40e9fdb648b2b10f8825973ca613",
            "58466e26646343caab983cdee3f37a54",
            "c7832e71595d4be48321d1d911987a62"
          ]
        },
        "outputId": "cfcead54-5ba9-4691-f673-673adbffb7b6"
      },
      "execution_count": 71,
      "outputs": [
        {
          "output_type": "display_data",
          "data": {
            "text/plain": [
              "  0%|          | 0/406 [00:00<?, ?it/s]"
            ],
            "application/vnd.jupyter.widget-view+json": {
              "version_major": 2,
              "version_minor": 0,
              "model_id": "da3e6fb271034430851a9d0b25f726a5"
            }
          },
          "metadata": {}
        },
        {
          "output_type": "stream",
          "name": "stdout",
          "text": [
            "The Hit Ratio @ 10 is 0.29\n",
            "The AUC is 0.52\n",
            "The NDCG is 0.20\n"
          ]
        }
      ]
    }
  ]
}