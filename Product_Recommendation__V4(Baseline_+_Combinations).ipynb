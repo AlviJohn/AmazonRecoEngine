{
  "cells": [
    {
      "cell_type": "markdown",
      "metadata": {
        "id": "view-in-github",
        "colab_type": "text"
      },
      "source": [
        "<a href=\"https://colab.research.google.com/github/AlviJohn/AmazonRecoEngine/blob/main/Product_Recommendation__V4(Baseline_%2B_Combinations).ipynb\" target=\"_parent\"><img src=\"https://colab.research.google.com/assets/colab-badge.svg\" alt=\"Open In Colab\"/></a>"
      ]
    },
    {
      "cell_type": "code",
      "execution_count": null,
      "metadata": {
        "colab": {
          "base_uri": "https://localhost:8080/"
        },
        "id": "AtEq35KJgh-l",
        "outputId": "2a66a356-3f9c-4368-f01a-d88e93961aa6"
      },
      "outputs": [
        {
          "output_type": "stream",
          "name": "stdout",
          "text": [
            "cuda:0\n"
          ]
        }
      ],
      "source": [
        "## Importing required libraries\n",
        "import pandas as pd\n",
        "import numpy as np\n",
        "import torch\n",
        "from torch.utils.data import Dataset, DataLoader\n",
        "from sklearn.model_selection import train_test_split\n",
        "import os\n",
        "import gzip\n",
        "import json\n",
        "from google.colab import drive\n",
        "import gc\n",
        "from PIL import Image\n",
        "import requests\n",
        "from io import BytesIO\n",
        "from IPython.display import display\n",
        "import matplotlib.pyplot as plt\n",
        "# CUDA for PyTorch\n",
        "use_cuda = torch.cuda.is_available()\n",
        "device = torch.device(\"cuda:0\" if use_cuda else \"cpu\")\n",
        "print(device)\n",
        "from tqdm.notebook import tqdm\n",
        "from sklearn.metrics import ndcg_score, roc_auc_score, precision_score, recall_score, confusion_matrix\n",
        "## Amazon Dataset --https://nijianmo.github.io/amazon/index.html\n",
        "###Mounting Google Drive"
      ]
    },
    {
      "cell_type": "code",
      "execution_count": null,
      "metadata": {
        "id": "Xm8XGkUygyDo",
        "colab": {
          "base_uri": "https://localhost:8080/"
        },
        "outputId": "ffe7f876-305d-48ab-861f-b84811bee994"
      },
      "outputs": [
        {
          "output_type": "stream",
          "name": "stdout",
          "text": [
            "Drive already mounted at /content/drive; to attempt to forcibly remount, call drive.mount(\"/content/drive\", force_remount=True).\n"
          ]
        }
      ],
      "source": [
        "##Mounting the Path\n",
        "drive.mount('/content/drive')\n",
        "path =\"/content/drive/MyDrive/LJMU Research Topic/colab_experiments/data\"\n",
        "RAWDATA_PATH = path + \"/raw\"\n",
        "EMBEDDINGSDATA_PATH = path + \"/embeddings\"\n",
        "#MODEL_PATH = EMBEDDINGSDATA_PATH +\"/Model_Pantry_Baseline_V2(MSELoss).pt\"\n",
        "#MODEL_PATH = EMBEDDINGSDATA_PATH +\"/Model_Pantry_ImageOnly_V2(MSELoss).pt\"\n",
        "MODEL_PATH = EMBEDDINGSDATA_PATH +\"/Model_Pantry_TextOnly_V2(MSELoss).pt\"\n",
        "os.chdir(RAWDATA_PATH)\n",
        "torch.manual_seed(42)\n",
        "\n",
        "##### Dictionary which will determine which modalities should be On and Off\n",
        "\n",
        "###Baseline\n",
        "#Module_Combinations={'Image':0,'Text':0,'Tabular':1}\n",
        "\n",
        "####Image Only\n",
        "#Module_Combinations={'Image':1,'Text':0,'Tabular':1}\n",
        "\n",
        "###Text Only\n",
        "Module_Combinations={'Image':0,'Text':1,'Tabular':1}"
      ]
    },
    {
      "cell_type": "code",
      "execution_count": null,
      "metadata": {
        "id": "Yx915YOkZbPm"
      },
      "outputs": [],
      "source": [
        "# import torch\n",
        "# import sys\n",
        "# print('__Python VERSION:', sys.version)\n",
        "# print('__pyTorch VERSION:', torch.__version__)\n",
        "# print('__CUDA VERSION', )\n",
        "# from subprocess import call\n",
        "# # call([\"nvcc\", \"--version\"]) does not work\n",
        "# ! nvcc --version\n",
        "# print('__CUDNN VERSION:', torch.backends.cudnn.version())\n",
        "# print('__Number CUDA Devices:', torch.cuda.device_count())\n",
        "# print('__Devices')\n",
        "# # call([\"nvidia-smi\", \"--format=csv\", \"--query-gpu=index,name,driver_version,memory.total,memory.used,memory.free\"])\n",
        "# print('Active CUDA Device: GPU', torch.cuda.current_device())\n",
        "# print ('Available devices ', torch.cuda.device_count())\n",
        "# print ('Current cuda device ', torch.cuda.current_device())"
      ]
    },
    {
      "cell_type": "markdown",
      "metadata": {
        "id": "eYOTrReumd5k"
      },
      "source": [
        "**Dataset Definition**"
      ]
    },
    {
      "cell_type": "code",
      "execution_count": null,
      "metadata": {
        "id": "UAKdGqksmp4i"
      },
      "outputs": [],
      "source": [
        "# Define a custom dataset class for reading the data\n",
        "\n",
        "class AmazonDataset(Dataset):\n",
        "    def __init__(self, data,idx_to_item,image_embeddings,desc_embeddings):\n",
        "        self.data = data\n",
        "        self.idx_to_item = idx_to_item\n",
        "        self.image_embeddings=image_embeddings\n",
        "        self.desc_embeddings=desc_embeddings\n",
        "\n",
        "    def __len__(self):\n",
        "        return len(self.data)\n",
        "\n",
        "    def __getitem__(self, idx):\n",
        "        user = self.data.iloc[idx, 0]\n",
        "        item = self.data.iloc[idx, 1]\n",
        "        relevance_score = self.data.iloc[idx, 2]\n",
        "        \n",
        "        itemimage_embedding = self.image_embeddings.get(idx_to_item[item],torch.zeros(25088))\n",
        "        itemdesc_embedding = self.desc_embeddings.get(idx_to_item[item],torch.zeros(768))\n",
        "\n",
        "        return user, item, relevance_score,itemimage_embedding,itemdesc_embedding\n"
      ]
    },
    {
      "cell_type": "code",
      "execution_count": null,
      "metadata": {
        "id": "bz6vkF8jm1E5"
      },
      "outputs": [],
      "source": [
        "# Define the model\n",
        "class RecommenderNet(torch.nn.Module):\n",
        "    def __init__(self, n_users, n_items,n_image_embedding,n_desc_embedding,Module_Combinations, n_factors=64,dropout_prob=0.2):\n",
        "        super().__init__()\n",
        "        self.Module_Combinations = Module_Combinations\n",
        "        self.user_embedding = torch.nn.Embedding(n_users, n_factors)\n",
        "        self.item_embedding = torch.nn.Embedding(n_items, n_factors)\n",
        "        \n",
        "        self.image_embedding_layer = torch.nn.Linear(n_image_embedding, n_factors)\n",
        "        self.desc_embedding_layer = torch.nn.Linear(n_desc_embedding, n_factors)\n",
        "        \n",
        "        self.fc1 = torch.nn.Linear(n_factors*(2+Module_Combinations['Image']+Module_Combinations['Text']) , 64)\n",
        "        self.fc2 = torch.nn.Linear(64, 32)\n",
        "        self.fc3 = torch.nn.Linear(32, 1)\n",
        "\n",
        "        self.dropout = torch.nn.Dropout(dropout_prob)\n",
        "\n",
        "    def forward(self, user, item,itemimage_embedding,itemdesc_embedding,Module_Combinations):\n",
        "       \n",
        "        user_embedding = self.user_embedding(user)\n",
        "        item_embedding = self.item_embedding(item)\n",
        "\n",
        "        user_embedding = torch.nn.functional.relu(user_embedding)\n",
        "        user_embedding =self.dropout(user_embedding)\n",
        "        item_embedding = torch.nn.functional.relu(item_embedding)\n",
        "        item_embedding =self.dropout(item_embedding)\n",
        "        vector = torch.cat([user_embedding, item_embedding], dim=-1)        \n",
        "\n",
        "        if (Module_Combinations['Image']==1):\n",
        "          itemimage_embedding = self.image_embedding_layer(itemimage_embedding).unsqueeze(1)\n",
        "          itemimage_embedding = torch.nn.functional.relu(itemimage_embedding)\n",
        "          itemimage_embedding =self.dropout(itemimage_embedding)\n",
        "          vector = torch.cat([vector, itemimage_embedding], dim=-1)\n",
        "        \n",
        "        if (Module_Combinations['Text']==1):\n",
        "          itemdesc_embedding = self.desc_embedding_layer(itemdesc_embedding).unsqueeze(1)\n",
        "          itemdesc_embedding = torch.nn.functional.relu(itemdesc_embedding)\n",
        "          itemdesc_embedding =self.dropout(itemdesc_embedding)\n",
        "          vector = torch.cat([vector, itemdesc_embedding], dim=-1)\n",
        "\n",
        "        vector = torch.nn.functional.relu(self.fc1(vector))\n",
        "        vector = self.dropout(vector)\n",
        "        vector = torch.nn.functional.relu(self.fc2(vector))\n",
        "        vector = self.dropout(vector)\n",
        "        vector = self.fc3(vector)\n",
        "        vector = torch.sigmoid(vector).float()\n",
        "        return vector.squeeze().float()"
      ]
    },
    {
      "cell_type": "markdown",
      "metadata": {
        "id": "DsNRdDIfq6AO"
      },
      "source": [
        "**Model Training**"
      ]
    },
    {
      "cell_type": "code",
      "execution_count": null,
      "metadata": {
        "id": "efushZTJC2AL"
      },
      "outputs": [],
      "source": [
        "######Loading Image embeddings\n",
        "image_embeddings=torch.load(EMBEDDINGSDATA_PATH + '/productimage_embeddings_pantry.pt')\n",
        "description_embeddings=torch.load(EMBEDDINGSDATA_PATH +'/productdescription_embeddings_pantry.pt')"
      ]
    },
    {
      "cell_type": "code",
      "execution_count": null,
      "metadata": {
        "id": "PTPhnKnDC6u0",
        "colab": {
          "base_uri": "https://localhost:8080/",
          "height": 206
        },
        "outputId": "f4b2f1e7-1f75-47a4-dc4f-691829df34de"
      },
      "outputs": [
        {
          "output_type": "execute_result",
          "data": {
            "text/plain": [
              "   reviewerID  asin  overall  unixReviewTime\n",
              "0           0     0      4.0      1443052800\n",
              "1           1     0      5.0      1435017600\n",
              "2           2     0      5.0      1434153600\n",
              "3           3     0      4.0      1433289600\n",
              "4           4     0      5.0      1429488000"
            ],
            "text/html": [
              "\n",
              "  <div id=\"df-4d4acd38-c9cc-4436-89c5-52adad7c5058\">\n",
              "    <div class=\"colab-df-container\">\n",
              "      <div>\n",
              "<style scoped>\n",
              "    .dataframe tbody tr th:only-of-type {\n",
              "        vertical-align: middle;\n",
              "    }\n",
              "\n",
              "    .dataframe tbody tr th {\n",
              "        vertical-align: top;\n",
              "    }\n",
              "\n",
              "    .dataframe thead th {\n",
              "        text-align: right;\n",
              "    }\n",
              "</style>\n",
              "<table border=\"1\" class=\"dataframe\">\n",
              "  <thead>\n",
              "    <tr style=\"text-align: right;\">\n",
              "      <th></th>\n",
              "      <th>reviewerID</th>\n",
              "      <th>asin</th>\n",
              "      <th>overall</th>\n",
              "      <th>unixReviewTime</th>\n",
              "    </tr>\n",
              "  </thead>\n",
              "  <tbody>\n",
              "    <tr>\n",
              "      <th>0</th>\n",
              "      <td>0</td>\n",
              "      <td>0</td>\n",
              "      <td>4.0</td>\n",
              "      <td>1443052800</td>\n",
              "    </tr>\n",
              "    <tr>\n",
              "      <th>1</th>\n",
              "      <td>1</td>\n",
              "      <td>0</td>\n",
              "      <td>5.0</td>\n",
              "      <td>1435017600</td>\n",
              "    </tr>\n",
              "    <tr>\n",
              "      <th>2</th>\n",
              "      <td>2</td>\n",
              "      <td>0</td>\n",
              "      <td>5.0</td>\n",
              "      <td>1434153600</td>\n",
              "    </tr>\n",
              "    <tr>\n",
              "      <th>3</th>\n",
              "      <td>3</td>\n",
              "      <td>0</td>\n",
              "      <td>4.0</td>\n",
              "      <td>1433289600</td>\n",
              "    </tr>\n",
              "    <tr>\n",
              "      <th>4</th>\n",
              "      <td>4</td>\n",
              "      <td>0</td>\n",
              "      <td>5.0</td>\n",
              "      <td>1429488000</td>\n",
              "    </tr>\n",
              "  </tbody>\n",
              "</table>\n",
              "</div>\n",
              "      <button class=\"colab-df-convert\" onclick=\"convertToInteractive('df-4d4acd38-c9cc-4436-89c5-52adad7c5058')\"\n",
              "              title=\"Convert this dataframe to an interactive table.\"\n",
              "              style=\"display:none;\">\n",
              "        \n",
              "  <svg xmlns=\"http://www.w3.org/2000/svg\" height=\"24px\"viewBox=\"0 0 24 24\"\n",
              "       width=\"24px\">\n",
              "    <path d=\"M0 0h24v24H0V0z\" fill=\"none\"/>\n",
              "    <path d=\"M18.56 5.44l.94 2.06.94-2.06 2.06-.94-2.06-.94-.94-2.06-.94 2.06-2.06.94zm-11 1L8.5 8.5l.94-2.06 2.06-.94-2.06-.94L8.5 2.5l-.94 2.06-2.06.94zm10 10l.94 2.06.94-2.06 2.06-.94-2.06-.94-.94-2.06-.94 2.06-2.06.94z\"/><path d=\"M17.41 7.96l-1.37-1.37c-.4-.4-.92-.59-1.43-.59-.52 0-1.04.2-1.43.59L10.3 9.45l-7.72 7.72c-.78.78-.78 2.05 0 2.83L4 21.41c.39.39.9.59 1.41.59.51 0 1.02-.2 1.41-.59l7.78-7.78 2.81-2.81c.8-.78.8-2.07 0-2.86zM5.41 20L4 18.59l7.72-7.72 1.47 1.35L5.41 20z\"/>\n",
              "  </svg>\n",
              "      </button>\n",
              "      \n",
              "  <style>\n",
              "    .colab-df-container {\n",
              "      display:flex;\n",
              "      flex-wrap:wrap;\n",
              "      gap: 12px;\n",
              "    }\n",
              "\n",
              "    .colab-df-convert {\n",
              "      background-color: #E8F0FE;\n",
              "      border: none;\n",
              "      border-radius: 50%;\n",
              "      cursor: pointer;\n",
              "      display: none;\n",
              "      fill: #1967D2;\n",
              "      height: 32px;\n",
              "      padding: 0 0 0 0;\n",
              "      width: 32px;\n",
              "    }\n",
              "\n",
              "    .colab-df-convert:hover {\n",
              "      background-color: #E2EBFA;\n",
              "      box-shadow: 0px 1px 2px rgba(60, 64, 67, 0.3), 0px 1px 3px 1px rgba(60, 64, 67, 0.15);\n",
              "      fill: #174EA6;\n",
              "    }\n",
              "\n",
              "    [theme=dark] .colab-df-convert {\n",
              "      background-color: #3B4455;\n",
              "      fill: #D2E3FC;\n",
              "    }\n",
              "\n",
              "    [theme=dark] .colab-df-convert:hover {\n",
              "      background-color: #434B5C;\n",
              "      box-shadow: 0px 1px 3px 1px rgba(0, 0, 0, 0.15);\n",
              "      filter: drop-shadow(0px 1px 2px rgba(0, 0, 0, 0.3));\n",
              "      fill: #FFFFFF;\n",
              "    }\n",
              "  </style>\n",
              "\n",
              "      <script>\n",
              "        const buttonEl =\n",
              "          document.querySelector('#df-4d4acd38-c9cc-4436-89c5-52adad7c5058 button.colab-df-convert');\n",
              "        buttonEl.style.display =\n",
              "          google.colab.kernel.accessAllowed ? 'block' : 'none';\n",
              "\n",
              "        async function convertToInteractive(key) {\n",
              "          const element = document.querySelector('#df-4d4acd38-c9cc-4436-89c5-52adad7c5058');\n",
              "          const dataTable =\n",
              "            await google.colab.kernel.invokeFunction('convertToInteractive',\n",
              "                                                     [key], {});\n",
              "          if (!dataTable) return;\n",
              "\n",
              "          const docLinkHtml = 'Like what you see? Visit the ' +\n",
              "            '<a target=\"_blank\" href=https://colab.research.google.com/notebooks/data_table.ipynb>data table notebook</a>'\n",
              "            + ' to learn more about interactive tables.';\n",
              "          element.innerHTML = '';\n",
              "          dataTable['output_type'] = 'display_data';\n",
              "          await google.colab.output.renderOutput(dataTable, element);\n",
              "          const docLink = document.createElement('div');\n",
              "          docLink.innerHTML = docLinkHtml;\n",
              "          element.appendChild(docLink);\n",
              "        }\n",
              "      </script>\n",
              "    </div>\n",
              "  </div>\n",
              "  "
            ]
          },
          "metadata": {},
          "execution_count": 57
        }
      ],
      "source": [
        "####Loading the ratings dataset\n",
        "df = pd.read_csv('user_item_rating_pantry.csv')\n",
        "df = df[[\"reviewerID\",\"asin\",\"overall\",\"unixReviewTime\"]]\n",
        "\n",
        "##Assigning all positive rating as 1\n",
        "#df['overall'] =1\n",
        "###Taking Unique User IDs and Product IDs\n",
        "user_unique = df['reviewerID'].unique()\n",
        "product_unique= df['asin'].unique()\n",
        "\n",
        "###Creating index for UserID and Product ID\n",
        "user_to_idx = {v:k for k,v in enumerate(user_unique)}\n",
        "item_to_idx = {v:k for k,v in enumerate(product_unique)}\n",
        "\n",
        "idx_to_user = {k:v for k,v in enumerate(user_unique)}\n",
        "idx_to_item = {k:v for k,v in enumerate(product_unique)}\n",
        "\n",
        "df= df.replace({\"reviewerID\": user_to_idx,\"asin\": item_to_idx})\n",
        "\n",
        "df.head()"
      ]
    },
    {
      "cell_type": "code",
      "execution_count": null,
      "metadata": {
        "id": "u35rjvGCmrlB",
        "colab": {
          "base_uri": "https://localhost:8080/",
          "height": 52
        },
        "outputId": "22528e46-d78a-4028-cf4a-95fb7c0dff0e"
      },
      "outputs": [
        {
          "output_type": "display_data",
          "data": {
            "text/plain": [
              "(123608, 3)"
            ]
          },
          "metadata": {}
        },
        {
          "output_type": "display_data",
          "data": {
            "text/plain": [
              "(14180, 3)"
            ]
          },
          "metadata": {}
        }
      ],
      "source": [
        "###Assigning all the latest to test dataset\n",
        "df['rank_latest'] = df.groupby(['reviewerID'])['unixReviewTime'] \\\n",
        "                                .rank(method = 'first',ascending=False)\n",
        "\n",
        "train_data = df[df['rank_latest'] != 1]\n",
        "test_data = df[df['rank_latest'] == 1]\n",
        "\n",
        "#test_data,train_data = train_test_split(df, test_size=0.8)\n",
        "# drop columns that we no Longer need \n",
        "train_data = train_data[[\"reviewerID\",\"asin\",\"overall\"]]\n",
        "test_data = test_data[[\"reviewerID\",\"asin\",\"overall\"]]\n",
        "\n",
        "\n",
        "display(train_data.shape)\n",
        "display(test_data.shape)"
      ]
    },
    {
      "cell_type": "markdown",
      "metadata": {
        "id": "jd6PqhaQefKo"
      },
      "source": [
        "Negative Sampling for train dataset"
      ]
    },
    {
      "cell_type": "code",
      "execution_count": null,
      "metadata": {
        "id": "GvwYDP99tt7x",
        "colab": {
          "base_uri": "https://localhost:8080/",
          "height": 52
        },
        "outputId": "0711309e-2616-41e8-f6d9-726b929130c3"
      },
      "outputs": [
        {
          "output_type": "display_data",
          "data": {
            "text/plain": [
              "(118317, 3)"
            ]
          },
          "metadata": {}
        },
        {
          "output_type": "display_data",
          "data": {
            "text/plain": [
              "(473268, 3)"
            ]
          },
          "metadata": {}
        }
      ],
      "source": [
        "# Get a list of all products\n",
        "all_Ids = train_data['asin'].unique()\n",
        "\n",
        "users, items, labels = [], [], []\n",
        "user_item_set = set(zip(train_data['reviewerID'], train_data['asin']))   \n",
        "\n",
        "######Setting 4 negative sample for every positive sample\n",
        "num_negatives = 4\n",
        "for u, i in user_item_set:\n",
        "  users.append(u)\n",
        "  items.append(i)\n",
        "  labels.append(1)\n",
        "  for _ in range(num_negatives):\n",
        "    negative_item = np.random.choice(all_Ids)\n",
        "    while (u, negative_item) in user_item_set:\n",
        "      negative_item = np.random.choice(all_Ids)\n",
        "    users.append(u)\n",
        "    items.append(i)\n",
        "    labels.append(0)\n",
        "                     \n",
        "train_data = pd.DataFrame({'reviewerID':users, 'asin':items, 'overall':labels})\n",
        "\n",
        "###Setting 20% of Train Dataset as Validation Dataset\n",
        "train_data, val_data = train_test_split(train_data, test_size=0.2)\n",
        "display(val_data.shape)\n",
        "display(train_data.shape)\n"
      ]
    },
    {
      "cell_type": "code",
      "execution_count": null,
      "metadata": {
        "id": "xYaze8cA5uIa"
      },
      "outputs": [],
      "source": [
        "# Define the data loaders\n",
        "train_dataset = AmazonDataset(train_data,idx_to_item,image_embeddings,description_embeddings)\n",
        "val_dataset = AmazonDataset(val_data,idx_to_item,image_embeddings,description_embeddings)\n",
        "test_dataset = AmazonDataset(test_data,idx_to_item,image_embeddings,description_embeddings)\n",
        "train_loader = DataLoader(train_dataset, batch_size=128, shuffle=True)\n",
        "val_loader = DataLoader(val_dataset, batch_size=128, shuffle=False)\n",
        "test_loader = DataLoader(test_dataset, batch_size=128, shuffle=False)"
      ]
    },
    {
      "cell_type": "code",
      "execution_count": null,
      "metadata": {
        "id": "fmykFM95r8fs"
      },
      "outputs": [],
      "source": [
        "# Initialize the model and hyperparameters\n",
        "model = RecommenderNet(n_users=(df.reviewerID.max()+1),\\\n",
        "                       n_items=(df.asin.max()+1),\\\n",
        "                       n_image_embedding=25088,\\\n",
        "                       n_desc_embedding=768,\\\n",
        "                       n_factors=64,\\\n",
        "                       Module_Combinations=Module_Combinations)\n",
        "\n",
        "model.to(device)\n",
        "\n",
        "criterion = torch.nn.MSELoss()\n",
        "optimizer = torch.optim.Adam(model.parameters(), lr=0.0001)\n"
      ]
    },
    {
      "cell_type": "code",
      "execution_count": null,
      "metadata": {
        "id": "q8cEKd4x-0wu",
        "colab": {
          "base_uri": "https://localhost:8080/"
        },
        "outputId": "bc234d1a-14ae-4a5d-90b1-b45d5693e0f8"
      },
      "outputs": [
        {
          "output_type": "execute_result",
          "data": {
            "text/plain": [
              "RecommenderNet(\n",
              "  (user_embedding): Embedding(14180, 64)\n",
              "  (item_embedding): Embedding(4970, 64)\n",
              "  (image_embedding_layer): Linear(in_features=25088, out_features=64, bias=True)\n",
              "  (desc_embedding_layer): Linear(in_features=768, out_features=64, bias=True)\n",
              "  (fc1): Linear(in_features=192, out_features=64, bias=True)\n",
              "  (fc2): Linear(in_features=64, out_features=32, bias=True)\n",
              "  (fc3): Linear(in_features=32, out_features=1, bias=True)\n",
              "  (dropout): Dropout(p=0.2, inplace=False)\n",
              ")"
            ]
          },
          "metadata": {},
          "execution_count": 62
        }
      ],
      "source": [
        "model"
      ]
    },
    {
      "cell_type": "code",
      "execution_count": null,
      "metadata": {
        "id": "JADsGfyvhncW",
        "colab": {
          "base_uri": "https://localhost:8080/",
          "height": 918
        },
        "outputId": "98d87ce2-ea24-4029-b3c4-948b391a3146"
      },
      "outputs": [
        {
          "output_type": "stream",
          "name": "stdout",
          "text": [
            "Epoch 1, Training Loss: 0.1621980510083903, Validation Loss: 0.1608952236175537\n",
            "Epoch 2, Training Loss: 0.16110043871791185, Validation Loss: 0.16067950903563885\n",
            "Epoch 3, Training Loss: 0.16091805451089722, Validation Loss: 0.16073730624205357\n",
            "Epoch 4, Training Loss: 0.16078615731979268, Validation Loss: 0.1606561126741203\n",
            "Epoch 5, Training Loss: 0.16068206260684956, Validation Loss: 0.16075993076369569\n",
            "Epoch 6, Training Loss: 0.16054669467821966, Validation Loss: 0.16078848225039405\n",
            "Epoch 7, Training Loss: 0.16046757020737237, Validation Loss: 0.16069390428227348\n",
            "Epoch 8, Training Loss: 0.1604325830223207, Validation Loss: 0.16067125559658618\n",
            "Epoch 9, Training Loss: 0.16032052335262362, Validation Loss: 0.1607169289363397\n",
            "Epoch 10, Training Loss: 0.1602721500853676, Validation Loss: 0.16076335758776278\n",
            "Epoch 11, Training Loss: 0.16027298843082124, Validation Loss: 0.16074999438749776\n",
            "Epoch 12, Training Loss: 0.16020618608597165, Validation Loss: 0.16075761873174357\n",
            "Epoch 13, Training Loss: 0.16018037135945004, Validation Loss: 0.16075231092201697\n",
            "Epoch 14, Training Loss: 0.1601689070334236, Validation Loss: 0.16074090580682496\n",
            "Epoch 15, Training Loss: 0.1601211228596803, Validation Loss: 0.16077233805044278\n",
            "Epoch 16, Training Loss: 0.16008267199077628, Validation Loss: 0.16074538464481766\n",
            "Epoch 17, Training Loss: 0.16006004957813647, Validation Loss: 0.16072542536097603\n",
            "Epoch 18, Training Loss: 0.16005016407607503, Validation Loss: 0.16076124947618795\n",
            "Epoch 19, Training Loss: 0.16003504257272425, Validation Loss: 0.16074872694305473\n",
            "Epoch 20, Training Loss: 0.1599978338655038, Validation Loss: 0.16075846703471364\n",
            "Epoch 21, Training Loss: 0.16000712226538352, Validation Loss: 0.16075260908217043\n",
            "Epoch 22, Training Loss: 0.15999895732158773, Validation Loss: 0.16075667137229765\n",
            "Epoch 23, Training Loss: 0.1599690774390187, Validation Loss: 0.16081169925025993\n",
            "Epoch 24, Training Loss: 0.15998375576982762, Validation Loss: 0.16082556091450356\n",
            "Epoch 25, Training Loss: 0.15996804592043984, Validation Loss: 0.16085255061452453\n"
          ]
        },
        {
          "output_type": "display_data",
          "data": {
            "text/plain": [
              "<Figure size 640x480 with 1 Axes>"
            ],
            "image/png": "[encoded data removed]"
          },
          "metadata": {}
        },
        {
          "output_type": "stream",
          "name": "stdout",
          "text": [
            "CPU times: user 36min 48s, sys: 9.8 s, total: 36min 57s\n",
            "Wall time: 37min 9s\n"
          ]
        }
      ],
      "source": [
        "%%time\n",
        "# Training the model\n",
        "train_losses = []\n",
        "val_losses = []\n",
        "\n",
        "epochs = 25\n",
        "for epoch in range(epochs):\n",
        "    train_loss = 0.0\n",
        "    model.train()\n",
        "    for user, item, relevance_score,itemimage_embedding,itemdesc_embedding in train_loader:\n",
        "        optimizer.zero_grad()\n",
        "        user=user.view(-1, 1).to(device)\n",
        "        item = item.view(-1, 1).to(device)\n",
        "        relevance_score= relevance_score.to(device)\n",
        "        itemimage_embedding=itemimage_embedding.to(device)\n",
        "        itemdesc_embedding=itemdesc_embedding.to(device)\n",
        "        #relevance_score = relevance_score.squeeze()\n",
        "        #relevance_score = relevance_score.view(-1, 1).float()\n",
        "        predicted_score = model(user, item,itemimage_embedding,itemdesc_embedding,Module_Combinations)\n",
        "        # print(relevance_score)\n",
        "        # print(predicted_score)\n",
        "        loss = criterion(predicted_score, relevance_score.float())\n",
        "        loss.backward()\n",
        "        optimizer.step()\n",
        "        train_loss += loss.item()\n",
        "    train_losses.append(train_loss/len(train_loader))\n",
        "\n",
        "  # Validation\n",
        "    val_loss = 0.0\n",
        "    model.eval()\n",
        "    with torch.no_grad():\n",
        "        for user, item, relevance_score,itemimage_embedding,itemdesc_embedding in val_loader:\n",
        "            user=user.view(-1, 1).to(device)\n",
        "            item = item.view(-1, 1).to(device)\n",
        "            relevance_score= relevance_score.to(device)\n",
        "            itemimage_embedding=itemimage_embedding.to(device)\n",
        "            itemdesc_embedding=itemdesc_embedding.to(device)\n",
        "            #relevance_score = relevance_score.squeeze()\n",
        "            predicted_score = model(user, item,itemimage_embedding,itemdesc_embedding,Module_Combinations)\n",
        "            loss = criterion(predicted_score, relevance_score.float())\n",
        "            val_loss += loss.item()\n",
        "        val_losses.append(val_loss/len(val_loader))\n",
        "\n",
        "# Print the loss for each epoch\n",
        "    print(f\"Epoch {epoch+1}, Training Loss: {train_loss/len(train_loader)}, Validation Loss: {val_loss/len(val_loader)}\")\n",
        "\n",
        "# Plot loss curves\n",
        "plt.plot(train_losses, label='train')\n",
        "plt.plot(val_losses, label='val')\n",
        "plt.xlabel('Epoch')\n",
        "plt.ylabel('Loss')\n",
        "plt.legend()\n",
        "plt.show()"
      ]
    },
    {
      "cell_type": "code",
      "execution_count": null,
      "metadata": {
        "id": "XEkUzA02W9zT",
        "colab": {
          "base_uri": "https://localhost:8080/"
        },
        "outputId": "08266bf9-90bc-4c71-9d45-d7e6a3c8178c"
      },
      "outputs": [
        {
          "output_type": "stream",
          "name": "stdout",
          "text": [
            "CPU times: user 16.9 ms, sys: 14 ms, total: 30.8 ms\n",
            "Wall time: 60.1 ms\n"
          ]
        }
      ],
      "source": [
        "%%time\n",
        "torch.save(model, MODEL_PATH)\n",
        "model = torch.load(MODEL_PATH)"
      ]
    },
    {
      "cell_type": "code",
      "execution_count": null,
      "metadata": {
        "id": "rTZOZhRZPlG2"
      },
      "outputs": [],
      "source": []
    },
    {
      "cell_type": "code",
      "execution_count": null,
      "metadata": {
        "id": "bAecxGlDBV62",
        "colab": {
          "base_uri": "https://localhost:8080/",
          "height": 235
        },
        "outputId": "8678358c-a10a-4a65-efd8-94bf6ac25eae"
      },
      "outputs": [
        {
          "output_type": "error",
          "ename": "NameError",
          "evalue": "ignored",
          "traceback": [
            "\u001b[0;31m---------------------------------------------------------------------------\u001b[0m",
            "\u001b[0;31mNameError\u001b[0m                                 Traceback (most recent call last)",
            "\u001b[0;32m<ipython-input-1-47f9536ec56d>\u001b[0m in \u001b[0;36m<cell line: 3>\u001b[0;34m()\u001b[0m\n\u001b[1;32m      1\u001b[0m \u001b[0;31m###Testing the Model with HIT 10\u001b[0m\u001b[0;34m\u001b[0m\u001b[0;34m\u001b[0m\u001b[0m\n\u001b[1;32m      2\u001b[0m \u001b[0;31m# User-item pairs for testing\u001b[0m\u001b[0;34m\u001b[0m\u001b[0;34m\u001b[0m\u001b[0m\n\u001b[0;32m----> 3\u001b[0;31m \u001b[0mtest_user_item_set\u001b[0m \u001b[0;34m=\u001b[0m \u001b[0mset\u001b[0m\u001b[0;34m(\u001b[0m\u001b[0mzip\u001b[0m\u001b[0;34m(\u001b[0m\u001b[0mtest_data\u001b[0m\u001b[0;34m[\u001b[0m\u001b[0;34m'reviewerID'\u001b[0m\u001b[0;34m]\u001b[0m\u001b[0;34m,\u001b[0m \u001b[0mtest_data\u001b[0m\u001b[0;34m[\u001b[0m\u001b[0;34m'asin'\u001b[0m\u001b[0;34m]\u001b[0m\u001b[0;34m)\u001b[0m\u001b[0;34m)\u001b[0m\u001b[0;34m\u001b[0m\u001b[0;34m\u001b[0m\u001b[0m\n\u001b[0m\u001b[1;32m      4\u001b[0m \u001b[0;31m# Dict of all items that are interacted with by each user\u001b[0m\u001b[0;34m\u001b[0m\u001b[0;34m\u001b[0m\u001b[0m\n\u001b[1;32m      5\u001b[0m \u001b[0muser_interacted_items\u001b[0m \u001b[0;34m=\u001b[0m \u001b[0mtrain_data\u001b[0m\u001b[0;34m.\u001b[0m\u001b[0mgroupby\u001b[0m\u001b[0;34m(\u001b[0m\u001b[0;34m'reviewerID'\u001b[0m\u001b[0;34m)\u001b[0m\u001b[0;34m[\u001b[0m\u001b[0;34m'asin'\u001b[0m\u001b[0;34m]\u001b[0m\u001b[0;34m.\u001b[0m\u001b[0mapply\u001b[0m\u001b[0;34m(\u001b[0m\u001b[0mlist\u001b[0m\u001b[0;34m)\u001b[0m\u001b[0;34m.\u001b[0m\u001b[0mto_dict\u001b[0m\u001b[0;34m(\u001b[0m\u001b[0;34m)\u001b[0m\u001b[0;34m\u001b[0m\u001b[0;34m\u001b[0m\u001b[0m\n",
            "\u001b[0;31mNameError\u001b[0m: name 'test_data' is not defined"
          ]
        }
      ],
      "source": [
        "###Testing the Model with HIT 10\n",
        "# User-item pairs for testing\n",
        "test_user_item_set = set(zip(test_data['reviewerID'], test_data['asin']))\n",
        "# Dict of all items that are interacted with by each user\n",
        "user_interacted_items = train_data.groupby('reviewerID')['asin'].apply(list).to_dict()\n",
        "all_Ids = train_data['asin'].unique()\n",
        "\n",
        "\n",
        "hits = []\n",
        "ndcg=[]\n",
        "auc=[]\n",
        "\n",
        "for (u,i) in tqdm(test_user_item_set):\n",
        "    interacted_items = user_interacted_items[u]\n",
        "    not_interacted_items = set(all_Ids) - set(interacted_items)\n",
        "    selected_not_interacted = list(np.random.choice(list(not_interacted_items), 99))\n",
        "    test_items = selected_not_interacted + [i]\n",
        "\n",
        "    item_image_embedding_tensors = [image_embeddings.get(idx_to_item[item_id],torch.zeros(25088)) for item_id in test_items]\n",
        "    item_desc_embedding_tensors = [description_embeddings.get(idx_to_item[item_id],torch.zeros(768)) for item_id in test_items]\n",
        "\n",
        "    item_image_embedding_tensors = torch.stack(item_image_embedding_tensors)\n",
        "    item_desc_embedding_tensors= torch.stack(item_desc_embedding_tensors)\n",
        "    \n",
        "    predicted_labels = np.squeeze(model(torch.tensor([u]*100).view(-1,1).to(device),\\\n",
        "                                        torch.tensor(test_items).view(-1,1).to(device),\\\n",
        "                                        item_image_embedding_tensors.to(device),\n",
        "                                        item_desc_embedding_tensors.to(device),\\\n",
        "                                        Module_Combinations)\\\n",
        "                                        .detach().cpu().numpy())\n",
        "    \n",
        "    \n",
        "    top10_items = [test_items[i] for i in np.argsort(predicted_labels)[::-1][0:10].tolist()]\n",
        "    \n",
        "    actual_labels = np.zeros(100)\n",
        "    actual_labels[-1] = 1\n",
        "    \n",
        "    # NDCG calculation\n",
        "    ndcg.append(ndcg_score([actual_labels], [predicted_labels]))\n",
        "\n",
        "    # AUC calculation\n",
        "    auc.append(roc_auc_score(actual_labels, predicted_labels))\n",
        "    \n",
        "\n",
        "    if i in top10_items:\n",
        "        hits.append(1)\n",
        "    else:\n",
        "        hits.append(0)\n",
        "        \n",
        "print(\"The Hit Ratio @ 10 is {:.2f}\".format(np.average(hits)))\n",
        "print(\"The AUC is {:.2f}\".format(np.average(auc)))\n",
        "print(\"The NDCG is {:.2f}\".format(np.average(ndcg)))"
      ]
    }
  ],
  "metadata": {
    "colab": {
      "provenance": [],
      "gpuType": "V100",
      "authorship_tag": "ABX9TyNpF38Mjx6fKJ5AhNX7ONuC",
      "include_colab_link": true
    },
    "kernelspec": {
      "display_name": "Python 3",
      "name": "python3"
    },
    "language_info": {
      "name": "python"
    }
  },
  "nbformat": 4,
  "nbformat_minor": 0
}